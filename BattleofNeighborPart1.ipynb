{
 "cells": [
  {
   "cell_type": "markdown",
   "metadata": {},
   "source": [
    "# The Battle of the Neighborhoods - Week 1\n",
    "\n",
    "\n",
    "## Introduction & Business Problem :\n",
    "\n",
    "\n",
    "### Problem Background:\n",
    "\n",
    "New York is the most populous city in the United States. It is the financial capital of USA. Due to this, it gives lot of business oppourtunities for people from aorund the world. This has attracted various businessman and entrepreneurs to invest in New York. NewYork is a global hub of business and commerce where people of various background live and visit. The city is a hub for everything known to human from food to arts to anything and everything.\n",
    "This gives rise to a competitive market. It is a highly developed city and expensive city and hence running a business is also expensive. Hence, starting a new business needs to be analyzed to avoid loss in the futute. This project will insights on  the market in NewYork and the scope of starting any business that will  help in starting a new venture. \n",
    "\n",
    "\n",
    "### Problem Description:\n",
    "\n",
    "A restaurants is an excellent business opportunity in the NewYork given the diversity. The people from various parts of the world reside in NewYor. People from Central and Eastern Europe, Italy, Jewish and China are here and this gives an opportunity to open a restaurant with a great good variety.  The city is home to \"nearly one thousand of the finest and most diverse haute cuisine restaurants in the world\", according to Michelin.\n",
    "\n",
    "Hence, it can be seen Newyork  is a competitive market and hence it is essential to plan and analyse.There are  different aspects that  need to be analyzed inorder to decide on the perfect location to open the restaurant.\n",
    "The different things that need to be though through are:\n",
    "\n",
    "1.  Population \n",
    "2.  City Demographics \n",
    "3.  Farmers Markets or Wholesale markets \n",
    "4. venues like Gyms, Entertainmnet zones, Parks etc \n",
    "5.  The competitors  \n",
    "6. Cusine people like most\n",
    "\n",
    "\n",
    "### Company's Interested:\n",
    "We are analysing data for  Caffrey  Company. The objective is to locate and recommend the neighborhood of Newyork city that will be best place to start a restaurant. This project would help everyone, who are interested in opening a business.\n",
    "\n",
    "### Project completion:\n",
    "The success completion  of the project is to provide  a good recommendation of borough/Neighborhood choice to Caffrey Company based on analysis and the points mentioned in the problem description."
   ]
  },
  {
   "cell_type": "code",
   "execution_count": null,
   "metadata": {},
   "outputs": [],
   "source": []
  }
 ],
 "metadata": {
  "kernelspec": {
   "display_name": "Python 3",
   "language": "python",
   "name": "python3"
  },
  "language_info": {
   "codemirror_mode": {
    "name": "ipython",
    "version": 3
   },
   "file_extension": ".py",
   "mimetype": "text/x-python",
   "name": "python",
   "nbconvert_exporter": "python",
   "pygments_lexer": "ipython3",
   "version": "3.7.4"
  }
 },
 "nbformat": 4,
 "nbformat_minor": 2
}
